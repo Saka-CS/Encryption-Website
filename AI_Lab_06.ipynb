{
 "cells": [
  {
   "cell_type": "markdown",
   "metadata": {
    "id": "biEVrzeK8-fx"
   },
   "source": [
    "![logos.png](attachment:logos.png)"
   ]
  },
  {
   "cell_type": "markdown",
   "metadata": {
    "id": "dzNng6vCL9eP"
   },
   "source": [
    "<h1><center>\n",
    "King Faisal University <br>\n",
    "College of Computer Sciences and Information Technology <br>\n",
    "CS324: Artificial Intelligence – Practical Class\n",
    "</h1>\n"
   ]
  },
  {
   "cell_type": "markdown",
   "metadata": {
    "id": "IGbvtsLaF9Du"
   },
   "source": [
    "<strong>\n",
    "<center>[0921 - 324]: [Artificial Intelligence]\n",
    "<br><br>\n",
    "<center>Section: [Male/Female]\n",
    "<br><br><br><br>\n",
    "\n",
    "<center>Lab [06]: [Local Search]\n",
    "<br><br><br><br>\n",
    "\n",
    "<center> Date: []\n",
    "<center> Time: []\n",
    "<br><br>\n",
    "\n",
    "\n",
    "<center> Instructor: []\n",
    "</strong>"
   ]
  },
  {
   "cell_type": "markdown",
   "metadata": {
    "id": "qVrTo-LhL9eS"
   },
   "source": [
    "# Introduction\n",
    "The search algorithms that we have seen so far are designed to explore search spaces systematically. This systematicity is achieved by keeping one or more paths in memory and by recording which alternatives have been explored at each point along the path. When a goal is found, the path to that goal also constitutes a solution to the problem. In many problems, however, the path to the goal is irrelevant.\n",
    "\n",
    "If the path to the goal does not matter, we might consider a different class of algorithms, ones that do not worry about paths at all. Local search algorithms operate using a single current node (rather than multiple paths) and generally move only to neighbors of that node. Typically, the paths followed by the search are not retained. Although local search algorithms are not systematic, they have two key advantages:\n",
    "\n",
    "1.\tThey use very little memory—usually a constant amount.\n",
    "2.\tThey can often find reasonable solutions in large or infinite (continuous) state spaces for which systematic algorithms are unsuitable.\n",
    "\n",
    "In addition to finding goals, local search algorithms are useful for solving pure optimization problems, in which the aim is to find the best state according to an objective function. Examples of local search algorithms are:\n",
    "\n",
    "1.\tHill-climbing search\n",
    "2.\tSimulated annealing\n",
    "3.\tLocal beam search\n",
    "4.\tGenetic algorithms\n",
    "\n",
    "However, in this lab, we will only focus on Hill Climbing algorithm and use an example to explain its implementation to solve a problem."
   ]
  },
  {
   "cell_type": "markdown",
   "metadata": {
    "id": "U1PvreR9L9eW"
   },
   "source": [
    "\n",
    "\n",
    "**Objectives: **\n",
    "* Implement Local Search ALgorithm such as Hill-climbing to Solve Traveling salesman Problem.\n",
    "\n",
    "**Tools/Software Requirement:**\n",
    "*\tAnaconda Navigator\n",
    "\n",
    "**Lab Activity Description:**\n",
    "\n",
    "Part 1: Implementing Informed Search Algorithm\n",
    "* Solving Traveling Salesman using Hill-Climbing algorithm.\n",
    "\n",
    "Part 2: Lab Task.\n",
    "* Student discusses their observation  in the implementation of Hill-climbing algorithm in solving a problem.\n",
    "* Student solves programming questions using Hill Climbing Algorithm."
   ]
  },
  {
   "cell_type": "markdown",
   "metadata": {
    "id": "p-6hClFjL9fk"
   },
   "source": [
    "# Part 1: Implementing Local Search Algorithms"
   ]
  },
  {
   "cell_type": "markdown",
   "metadata": {
    "id": "jSWNhqn28-f1"
   },
   "source": [
    "## 1.1 Hill-Climbing Algorithm\n",
    "\n",
    "Hill climbing is a mathematical optimization procedure whose goal is to discover the best solution to a problem with a (big) number of alternatives.\n",
    "\n",
    "The best way to explain the algorithm (and optimization in general) is to use an example. We will use the Traveling salesman problem who needs to visit a number of cities exactly once before returning to the first. We have the distances between each pair of cities and need to identify the shortest path between them. As you might expect, a specific Traveling salesman problem has a huge number of different solutions (routes); the goal is to discover the best (i.e. shortest) solution.\n",
    "\n",
    "### Solving the Problem\n",
    "\n",
    "Hill climbing tries to find the best solution to this problem by starting out with a random solution, and then generate neighbours: solutions that only slightly differ from the current one. If the best of those neighbours is better (i.e. shorter) than the current one, it replaces the current solution with this better solution. It then repeats the pattern by again creating neighbours. If at some point no neighbour is better than the current solution, it returns the then current solution."
   ]
  },
  {
   "cell_type": "code",
   "execution_count": 66,
   "metadata": {
    "executionInfo": {
     "elapsed": 387,
     "status": "ok",
     "timestamp": 1727859915825,
     "user": {
      "displayName": "Marwan El-Haj",
      "userId": "05597129680703160266"
     },
     "user_tz": -180
    },
    "id": "9CP4SbY38-f3"
   },
   "outputs": [],
   "source": [
    "#Program imports\n",
    "import random #For random solution generator\n"
   ]
  },
  {
   "cell_type": "markdown",
   "metadata": {
    "id": "DMwtzsPx8-f3"
   },
   "source": [
    "### A. Create a Travelling salesman Problem\n",
    "\n",
    "Let's start with a code example of the Traveling salesman problem. When you think about it, such an instantiation should be a list of cities, each of which provides information about the distances between them. Naturally, the distance between each city and itself is zero, and the distance between cities A and B is the same as the distance between cities B and A. This yields a list containing n lists of size n (where n equals 4 in this case):"
   ]
  },
  {
   "cell_type": "code",
   "execution_count": 67,
   "metadata": {
    "executionInfo": {
     "elapsed": 337,
     "status": "ok",
     "timestamp": 1727860353300,
     "user": {
      "displayName": "Marwan El-Haj",
      "userId": "05597129680703160266"
     },
     "user_tz": -180
    },
    "id": "aU_geLGj8-f4"
   },
   "outputs": [],
   "source": [
    "#As we can see, the distance between the first and third cities is, of course, 0;\n",
    "#but, the distance between the first and third cities is 500.\n",
    "tsp = [[0, 400, 500, 300],\n",
    "       [400, 0, 300, 500],\n",
    "       [500, 300, 0, 400],\n",
    "       [300, 500, 400, 0]]"
   ]
  },
  {
   "cell_type": "markdown",
   "metadata": {
    "id": "yAySk-4X8-f4"
   },
   "source": [
    "### B. Create a random solution generator\n",
    "\n",
    "Hill climbing must begin with a random solution to our Traveling salesman problem in order to work. It can then produce neighboring solutions and begin the optimization process from there.\n",
    "\n",
    "The solution to the problem of the traveling salesman could be as simple as a list of all city identifiers in the order in which the salesman should visit them. Every city must be visited only once. Let's start by making a list of all city identifiers (named cities in the code below), and then pick a city at random from that list and add it to our solution repeatedly. The range function in Python is great for making cities since it makes a range of all values from 0 to the parameter given, which in this case equals the length of the issue, because each city is represented by a single item in the problem."
   ]
  },
  {
   "cell_type": "code",
   "execution_count": 68,
   "metadata": {
    "executionInfo": {
     "elapsed": 350,
     "status": "ok",
     "timestamp": 1727860478413,
     "user": {
      "displayName": "Marwan El-Haj",
      "userId": "05597129680703160266"
     },
     "user_tz": -180
    },
    "id": "OMM1NtR28-f4"
   },
   "outputs": [],
   "source": [
    "#each city can only be visited once, we remove its identification from the city identifier\n",
    "#list once it has been included to our solution.\n",
    "\n",
    "def randomSolution(tsp):\n",
    "    cities = list(range(len(tsp)))\n",
    "#     print(cities)\n",
    "#     print('#'*10)\n",
    "    solution = []\n",
    "    for i in range(len(tsp)):\n",
    "        randomCity = cities[random.randint(0, len(cities) - 1)]\n",
    "        solution.append(randomCity)\n",
    "#         print(cities, 'before')\n",
    "        cities.remove(randomCity)\n",
    "#         print(cities, 'after')\n",
    "#         print(solution)\n",
    "    return solution\n",
    "\n",
    "# print(randomSolution(tsp))"
   ]
  },
  {
   "cell_type": "markdown",
   "metadata": {
    "id": "xAjLE3XM8-f4"
   },
   "source": [
    "### C. Create a function calculating the length of a route\n",
    "\n",
    "We need a method to calculate the length of a certain solution since we want our Hill Climber to locate the shortest option. This function requires the Traveling salesman problem (information on distances between cities) and the solution to which the route length is required.\n",
    "\n",
    "We should iterate over a solution and use the tsp argument to add the distance to each new city to our overall route length because a solution is a list of all cities in a certain order. When i equals 0, the iterator i \"visits\" each city, so i-1 is \"at\" the previous or last city. As a result, solution[i] represents the current city, while solution[i-1] represents the previous one. Then we use the tsp to calculate the distance between these cities, which we then add to the entire route length (routeLength)."
   ]
  },
  {
   "cell_type": "code",
   "execution_count": 69,
   "metadata": {
    "executionInfo": {
     "elapsed": 356,
     "status": "ok",
     "timestamp": 1727859927617,
     "user": {
      "displayName": "Marwan El-Haj",
      "userId": "05597129680703160266"
     },
     "user_tz": -180
    },
    "id": "1RH2jqRz8-f4"
   },
   "outputs": [
    {
     "name": "stdout",
     "output_type": "stream",
     "text": [
      "1800\n"
     ]
    }
   ],
   "source": [
    "def routeLength(tsp, solution):\n",
    "#     print(solution)\n",
    "    routeLength = 0\n",
    "    for i in range(len(solution)):\n",
    "#         print(\"#\"*20)\n",
    "#         print(\"solution[i - 1]\" ,solution[i - 1])\n",
    "#         print(\"solution[i]\",solution[i])\n",
    "#         print(\"tsp[solution[i - 1]] [solution[i]]\",tsp[solution[i - 1]] [solution[i]])\n",
    "        routeLength += tsp[solution[i - 1]] [solution[i]]\n",
    "#         print(routeLength)\n",
    "    return routeLength\n",
    "print(routeLength(tsp, randomSolution(tsp)))\n",
    "    "
   ]
  },
  {
   "cell_type": "markdown",
   "metadata": {
    "id": "atUJj5zR8-f4"
   },
   "source": [
    "### D. Create a function generating all neighbours of a solution\n",
    "\n",
    "Hill climbing works in part by creating all of the solutions that are neighboring to the current one. The term \"neighboring solution\" refers to a solution that is only slightly different from the existing one. It's also important to note that a neighbor must still be a correct solution: every city must be visited exactly once. We can do both by making a neighbor in the following way:\n",
    "\n",
    "1. Copy the current solution and switch the locations of two cities! This manner, we can come up with a somewhat different but still correct solution.\n",
    "2. Create two for loops, one nested in the other, both iterating the current solution, because we want to create all neighbors to a solution and need to have cities trade places. Because changing cities A and B is the same as swapping cities A and B, our second loop just has to loop over the cities that the first loop hasn't yet looped over.\n",
    "3. Within the second loop, we build a swapped-city neighbor and add it to our list of neighbors."
   ]
  },
  {
   "cell_type": "code",
   "execution_count": 70,
   "metadata": {
    "executionInfo": {
     "elapsed": 374,
     "status": "ok",
     "timestamp": 1727859931927,
     "user": {
      "displayName": "Marwan El-Haj",
      "userId": "05597129680703160266"
     },
     "user_tz": -180
    },
    "id": "skogGDcR8-f4"
   },
   "outputs": [],
   "source": [
    "def getNeighbours(solution):\n",
    "#     print(solution)\n",
    "    neighbours = []\n",
    "    for i in range(len(solution)):\n",
    "        for j in range(i + 1, len(solution)):\n",
    "         \n",
    "            neighbour = solution.copy()\n",
    "#             print('before')\n",
    "#             print(\"location i\", neighbour[i])\n",
    "#             print(\"location j\", neighbour[j])\n",
    "            neighbour[i] = solution[j]\n",
    "            neighbour[j] = solution[i]\n",
    "#             print('after')\n",
    "#             print(\"location i\", neighbour[i])\n",
    "#             print(\"location j\", neighbour[j])\n",
    "            neighbours.append(neighbour)\n",
    "#             print(\"final\", neighbours)\n",
    "    print(\"solution\",solution)\n",
    "\n",
    "    return neighbours\n",
    "# print(getNeighbours(randomSolution(tsp)))"
   ]
  },
  {
   "cell_type": "markdown",
   "metadata": {
    "id": "eIlL4ggz8-f4"
   },
   "source": [
    "### E. Create a function finding the best neighbour\n",
    "\n",
    "Now that we have a function that generates all of a solution's neighbors, it's time to develop one that finds the best of them. This is a simple function: it sets bestNeighbour to the first neighbour in the list of neighbours (and bestRouteLength to its route length), then iterates over all neighbours, updating both bestNeighbour and bestRouteLength when a neighbor has a shorter route length. This is how the best neighbor is discovered."
   ]
  },
  {
   "cell_type": "code",
   "execution_count": 71,
   "metadata": {
    "executionInfo": {
     "elapsed": 358,
     "status": "ok",
     "timestamp": 1727859936408,
     "user": {
      "displayName": "Marwan El-Haj",
      "userId": "05597129680703160266"
     },
     "user_tz": -180
    },
    "id": "Um1qVlgq8-f5"
   },
   "outputs": [],
   "source": [
    "def getBestNeighbour(tsp, neighbours):\n",
    "    print(\"neighbours\", neighbours)\n",
    "    print(\"tsp\", tsp)\n",
    "    bestRouteLength = routeLength(tsp, neighbours[0])\n",
    "    bestNeighbour = neighbours[0]\n",
    "    print(\"best route length\", bestRouteLength)\n",
    "    print(\"bestNeighbour \", bestNeighbour)\n",
    "    for neighbour in neighbours:\n",
    "        currentRouteLength = routeLength(tsp, neighbour)\n",
    "        print(\"current route length\", currentRouteLength)\n",
    "        if currentRouteLength < bestRouteLength:\n",
    "            bestRouteLength = currentRouteLength\n",
    "            bestNeighbour = neighbour\n",
    "            print(\"current best route length: \", bestRouteLength)\n",
    "            print(\"bestNeighbour: \", bestNeighbour)\n",
    "    return bestNeighbour, bestRouteLength\n",
    "# getBestNeighbour(tsp, )"
   ]
  },
  {
   "cell_type": "markdown",
   "metadata": {
    "id": "RmDxIl7S8-f5"
   },
   "source": [
    "### F. Create the Hill climbing algorithm\n",
    "\n",
    "To begin, we generate a random solution and determine its path length. After that, we construct neighboring solutions and choose the best one. As long as the best neighbor is better than the existing solution, we repeat the process, with the current solution being updated with the best neighbor each time. We return the current solution after this process completes (and its route length)."
   ]
  },
  {
   "cell_type": "code",
   "execution_count": 72,
   "metadata": {
    "executionInfo": {
     "elapsed": 319,
     "status": "ok",
     "timestamp": 1727859940903,
     "user": {
      "displayName": "Marwan El-Haj",
      "userId": "05597129680703160266"
     },
     "user_tz": -180
    },
    "id": "FoHUlEF38-f5"
   },
   "outputs": [],
   "source": [
    "def hillClimbing(tsp):\n",
    "    currentSolution = randomSolution(tsp)\n",
    "    currentRouteLength = routeLength(tsp, currentSolution)\n",
    "    neighbours = getNeighbours(currentSolution)\n",
    "    bestNeighbour, bestNeighbourRouteLength = getBestNeighbour(tsp, neighbours)\n",
    "    while bestNeighbourRouteLength < currentRouteLength:\n",
    "        currentSolution = bestNeighbour\n",
    "        currentRouteLength = bestNeighbourRouteLength\n",
    "        neighbours = getNeighbours(currentSolution)\n",
    "        bestNeighbour, bestNeighbourRouteLength = getBestNeighbour(tsp, neighbours)\n",
    "\n",
    "    return currentSolution, currentRouteLength"
   ]
  },
  {
   "cell_type": "markdown",
   "metadata": {
    "id": "BHjX3u5x8-f5"
   },
   "source": [
    "### G. Let Try it!\n",
    "\n",
    "In Section A, the example of a Traveling salesman problem that is \"rectangular\": we have four cities, each in the corner of a rectangular form. The rectangle's long side is 400 kilometers (or whatever unit you like), while the short side is 300 kilometers. The diagonal is now 500 kilometers long. The shortest paths, it seems evident, travel along the sides of this rectangle, making the shortest route 2 x 400 + 2 x 300 = 1400 kilometers long."
   ]
  },
  {
   "cell_type": "code",
   "execution_count": 73,
   "metadata": {
    "colab": {
     "base_uri": "https://localhost:8080/"
    },
    "executionInfo": {
     "elapsed": 368,
     "status": "ok",
     "timestamp": 1727859945853,
     "user": {
      "displayName": "Marwan El-Haj",
      "userId": "05597129680703160266"
     },
     "user_tz": -180
    },
    "id": "K4JSPe8H8-f5",
    "outputId": "c70ea2e4-4041-41f0-a19d-25d80cfe1b51"
   },
   "outputs": [
    {
     "name": "stdout",
     "output_type": "stream",
     "text": [
      "solution [1, 0, 3, 2]\n",
      "neighbours [[0, 1, 3, 2], [3, 0, 1, 2], [2, 0, 3, 1], [1, 3, 0, 2], [1, 2, 3, 0], [1, 0, 2, 3]]\n",
      "tsp [[0, 400, 500, 300], [400, 0, 300, 500], [500, 300, 0, 400], [300, 500, 400, 0]]\n",
      "best route length 1800\n",
      "bestNeighbour  [0, 1, 3, 2]\n",
      "current route length 1800\n",
      "current route length 1400\n",
      "current best route length:  1400\n",
      "bestNeighbour:  [3, 0, 1, 2]\n",
      "current route length 1600\n",
      "current route length 1600\n",
      "current route length 1400\n",
      "current route length 1800\n",
      "([1, 0, 3, 2], 1400)\n"
     ]
    }
   ],
   "source": [
    "#Try to run this multiple times.\n",
    "print(hillClimbing(tsp))"
   ]
  },
  {
   "cell_type": "markdown",
   "metadata": {
    "id": "fB8oaqz68-f5"
   },
   "source": [
    "### G.1 Create a problem generator\n",
    "\n",
    "The problem is straightforward, with only four cities to consider. Let's add a problem generator to our code that can generate larger challenges for our Hill Climber to solve, and see how well it works.\n",
    "\n",
    "To create a problem generator that is appropriate for our situation. Let's create a single-argument function called nCities, which indicates the number of cities we want in our Traveling salesman issue. The issue generator can then just loop over nCities times, each time producing a new list of distances (distances). Except where the value is already known: when the loop is adding the distance of the city to itself (which should be zero), and when it is adding a value it has already calculated, such a distance list can be filled with random numbers.This is the case when the algorithm adds the distance from city B to city A after previously adding the distance from city A to city B, despite the fact that these distances should be the same. In comment 1 and 2 from the code below this criteria is met."
   ]
  },
  {
   "cell_type": "code",
   "execution_count": 10,
   "metadata": {
    "executionInfo": {
     "elapsed": 353,
     "status": "ok",
     "timestamp": 1727860005370,
     "user": {
      "displayName": "Marwan El-Haj",
      "userId": "05597129680703160266"
     },
     "user_tz": -180
    },
    "id": "gdD1aQTW8-f5"
   },
   "outputs": [],
   "source": [
    "def problemGenerator(nCities):\n",
    "    tsp = []\n",
    "    for i in range(nCities):\n",
    "        distances = []\n",
    "        for j in range(nCities):\n",
    "            if j == i:\n",
    "                distances.append(0)\n",
    "            elif j < i: #comment 1\n",
    "                distances.append(tsp[j][i]) #comment 2\n",
    "            else:\n",
    "                distances.append(random.randint(10, 1000))\n",
    "        tsp.append(distances)\n",
    "    return tsp"
   ]
  },
  {
   "cell_type": "markdown",
   "metadata": {
    "id": "4xdIXrMA8-f5"
   },
   "source": [
    "### G.2 Use the problem generator to create a big problem\n",
    "\n",
    "Let's see how our Hill Climber performs on larger challenges now that we have a problem generator.\n",
    "\n",
    "Note: Change the value of ct to define the number of cities.\n",
    "\n",
    "The tsp has now been assigned a problem from the problem generator: one with ten cities, as you can see. The Hill Climber is called ten times with this problem to see if it returns the same quality solution each time. If it doesn't, we know the Hill Climber isn't always performing at its best."
   ]
  },
  {
   "cell_type": "code",
   "execution_count": 14,
   "metadata": {
    "colab": {
     "base_uri": "https://localhost:8080/"
    },
    "executionInfo": {
     "elapsed": 330,
     "status": "ok",
     "timestamp": 1727860085084,
     "user": {
      "displayName": "Marwan El-Haj",
      "userId": "05597129680703160266"
     },
     "user_tz": -180
    },
    "id": "zK0WfJlW8-f5",
    "outputId": "cfae8307-27e8-471e-d0dd-2fe18e185ed4"
   },
   "outputs": [
    {
     "name": "stdout",
     "output_type": "stream",
     "text": [
      "tsp [[0, 362, 900, 581, 821, 760, 465, 547, 296, 447], [362, 0, 362, 161, 628, 258, 358, 211, 395, 981], [900, 362, 0, 430, 401, 139, 622, 751, 493, 660], [581, 161, 430, 0, 222, 799, 223, 58, 979, 760], [821, 628, 401, 222, 0, 779, 500, 339, 643, 958], [760, 258, 139, 799, 779, 0, 515, 611, 645, 219], [465, 358, 622, 223, 500, 515, 0, 589, 86, 186], [547, 211, 751, 58, 339, 611, 589, 0, 953, 254], [296, 395, 493, 979, 643, 645, 86, 953, 0, 656], [447, 981, 660, 760, 958, 219, 186, 254, 656, 0]]\n",
      "currentSolution [2, 4, 9, 0, 1, 7, 8, 6, 5, 3]\n",
      "currentRouteLength 5162\n",
      "neighbours [[4, 2, 9, 0, 1, 7, 8, 6, 5, 3], [9, 4, 2, 0, 1, 7, 8, 6, 5, 3], [0, 4, 9, 2, 1, 7, 8, 6, 5, 3], [1, 4, 9, 0, 2, 7, 8, 6, 5, 3], [7, 4, 9, 0, 1, 2, 8, 6, 5, 3], [8, 4, 9, 0, 1, 7, 2, 6, 5, 3], [6, 4, 9, 0, 1, 7, 8, 2, 5, 3], [5, 4, 9, 0, 1, 7, 8, 6, 2, 3], [3, 4, 9, 0, 1, 7, 8, 6, 5, 2], [2, 9, 4, 0, 1, 7, 8, 6, 5, 3], [2, 0, 9, 4, 1, 7, 8, 6, 5, 3], [2, 1, 9, 0, 4, 7, 8, 6, 5, 3], [2, 7, 9, 0, 1, 4, 8, 6, 5, 3], [2, 8, 9, 0, 1, 7, 4, 6, 5, 3], [2, 6, 9, 0, 1, 7, 8, 4, 5, 3], [2, 5, 9, 0, 1, 7, 8, 6, 4, 3], [2, 3, 9, 0, 1, 7, 8, 6, 5, 4], [2, 4, 0, 9, 1, 7, 8, 6, 5, 3], [2, 4, 1, 0, 9, 7, 8, 6, 5, 3], [2, 4, 7, 0, 1, 9, 8, 6, 5, 3], [2, 4, 8, 0, 1, 7, 9, 6, 5, 3], [2, 4, 6, 0, 1, 7, 8, 9, 5, 3], [2, 4, 5, 0, 1, 7, 8, 6, 9, 3], [2, 4, 3, 0, 1, 7, 8, 6, 5, 9], [2, 4, 9, 1, 0, 7, 8, 6, 5, 3], [2, 4, 9, 7, 1, 0, 8, 6, 5, 3], [2, 4, 9, 8, 1, 7, 0, 6, 5, 3], [2, 4, 9, 6, 1, 7, 8, 0, 5, 3], [2, 4, 9, 5, 1, 7, 8, 6, 0, 3], [2, 4, 9, 3, 1, 7, 8, 6, 5, 0], [2, 4, 9, 0, 7, 1, 8, 6, 5, 3], [2, 4, 9, 0, 8, 7, 1, 6, 5, 3], [2, 4, 9, 0, 6, 7, 8, 1, 5, 3], [2, 4, 9, 0, 5, 7, 8, 6, 1, 3], [2, 4, 9, 0, 3, 7, 8, 6, 5, 1], [2, 4, 9, 0, 1, 8, 7, 6, 5, 3], [2, 4, 9, 0, 1, 6, 8, 7, 5, 3], [2, 4, 9, 0, 1, 5, 8, 6, 7, 3], [2, 4, 9, 0, 1, 3, 8, 6, 5, 7], [2, 4, 9, 0, 1, 7, 6, 8, 5, 3], [2, 4, 9, 0, 1, 7, 5, 6, 8, 3], [2, 4, 9, 0, 1, 7, 3, 6, 5, 8], [2, 4, 9, 0, 1, 7, 8, 5, 6, 3], [2, 4, 9, 0, 1, 7, 8, 3, 5, 6], [2, 4, 9, 0, 1, 7, 8, 6, 3, 5]]\n",
      "bestNeighbour [2, 5, 9, 0, 1, 7, 8, 6, 4, 3]\n",
      "bestNeighbourRouteLength 3569\n",
      "([2, 5, 9, 7, 1, 0, 8, 6, 3, 4], 2413)\n"
     ]
    }
   ],
   "source": [
    "ct = 10\n",
    "tsp = problemGenerator(ct)\n",
    "for i in range(ct):\n",
    "  print(hillClimbing(tsp))"
   ]
  },
  {
   "cell_type": "markdown",
   "metadata": {
    "id": "CTE6TUti9DNW"
   },
   "source": [
    "# Part 2: Lab Task"
   ]
  },
  {
   "cell_type": "markdown",
   "metadata": {
    "id": "z2RkO9hX9KjU"
   },
   "source": [
    "### Lab Task 1\n",
    "Using the Code in G.2 execute the code and use different number of cities such as 10, 20 and 30. Based on the result discuss your observation about the result. Is hill-climbing ideal in solving larger problems?Why does the result changes? Also, explain how does local maxima will effect hill-climbing algorithm result."
   ]
  },
  {
   "cell_type": "markdown",
   "metadata": {
    "collapsed": true,
    "id": "taxaijAJ8-f5"
   },
   "source": [
    "### Type your answer below"
   ]
  },
  {
   "cell_type": "markdown",
   "metadata": {
    "id": "nm1CbMcA8-f5"
   },
   "source": []
  },
  {
   "cell_type": "markdown",
   "metadata": {
    "id": "GndhI7Pq9PZw"
   },
   "source": [
    "### Lab Task 2\n",
    "\n",
    "Despite the challenges of solving the Traveling Salesman Problem, it has application across different industries. For example. in the last mile delivery used in Vehicle Routing Problem. Efficient solutions discovered through the TSP are being employed. The movement of goods from a transportation center, such as a depot or warehouse, to the end customer's preferred delivery method is referred to as last mile delivery. Last-mile delivery is the most expensive part of the supply chain. This is why companies seek to keep the cost of last-mile delivery as low as possible.\n",
    "\n",
    "The Vehicle Routing Problem (VRP) is everywhere, and solving it is critical in helping to facilitate the movement of goods and services from one place to another.One of this problem is, what order should the vehicles visit those stops to minimize the cost (last mile delivery)\n",
    "\n",
    "Problem\n",
    "\n",
    "ABC company is given you a task to determine the minimum last mile delivery cost and the route that a driver can follow using the destination in each town listed below (denoted in list).\n",
    "\n",
    "since ABC company does not have a record of their yearly delivery transactions, you are about to similuate a 1 year (360 days) delivery transaction using the given list of destination and determine the minimum last mile delivery cost and the route to follow.\n",
    "\n",
    "Note: Since delivery cars can start in any city its is important to take note that the generated route will only be a basis for the company to keep track on the cost based on the path that is supposed to be taken by the driver based on their location.\n",
    "\n",
    "Example:\n",
    "\n",
    "Given with this three result example with different starting point:\n",
    "\n",
    "Route [0, 2, 7, 4, 1, 5, 9, 3, 8, 6]\n",
    "Cost: 1242\n",
    "\n",
    "Route [2, 7, 4, 1, 5, 9, 3, 8, 6, 0]\n",
    "Cost 1242\n",
    "\n",
    "Route [5, 9, 3, 8, 6, 0, 2, 7, 4, 1]\n",
    "Cost 1242\n",
    "\n",
    "Each of them has a minimum cost 1242 based on 360 days simulation but each one of the has a different starting point, meaning if a driver is currently residing in city 0, the driver can take route 0 - 2 - 7 - 4 - 1 - 5 - 9 - 3- 8 -6, but if the driver is residing in city 2, the driver can take 2 - 7 - 4 - 1 - 5 - 9 - 3 8 - 6 - 0.\n",
    "\n",
    "Destination List\n",
    "\n",
    "destination = [[0, 85, 80, 474, 59, 177, 87, 308, 773, 502],\n",
    "       [85, 0, 801, 770, 40, 93, 231, 729, 979, 848],\n",
    "       [80, 801, 0, 510, 650, 430, 995, 230, 655, 767],\n",
    "       [474, 770, 510, 0, 178, 62, 805, 564, 53, 62],\n",
    "       [59, 40, 650, 178, 0, 632, 610, 53, 839, 667],\n",
    "       [177, 93, 430, 62, 632, 0, 897, 116, 317, 134],\n",
    "       [87, 231, 995, 805, 610, 897, 0, 490, 410, 479],\n",
    "       [308, 729, 230, 564, 53, 116, 490, 0, 79, 874],\n",
    "       [773, 979, 655, 53, 839, 317, 410, 79, 0, 655],\n",
    "       [502, 848, 767, 62, 667, 134, 479, 874, 655, 0]]\n"
   ]
  },
  {
   "cell_type": "markdown",
   "metadata": {
    "collapsed": true,
    "id": "FsyhoUal8-f6"
   },
   "source": [
    "Write your solution here\n"
   ]
  },
  {
   "cell_type": "code",
   "execution_count": null,
   "metadata": {
    "id": "8cDXv9ZL8-f6"
   },
   "outputs": [],
   "source": []
  }
 ],
 "metadata": {
  "colab": {
   "provenance": []
  },
  "kernelspec": {
   "display_name": "Python 3 (ipykernel)",
   "language": "python",
   "name": "python3"
  },
  "language_info": {
   "codemirror_mode": {
    "name": "ipython",
    "version": 3
   },
   "file_extension": ".py",
   "mimetype": "text/x-python",
   "name": "python",
   "nbconvert_exporter": "python",
   "pygments_lexer": "ipython3",
   "version": "3.12.3"
  }
 },
 "nbformat": 4,
 "nbformat_minor": 1
}
